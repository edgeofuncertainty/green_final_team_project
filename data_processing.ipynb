{
 "cells": [
  {
   "cell_type": "code",
   "execution_count": 1,
   "metadata": {},
   "outputs": [],
   "source": [
    "import pandas as pd\n",
    "import numpy as np\n",
    "import matplotlib.pyplot as plt"
   ]
  },
  {
   "cell_type": "code",
   "execution_count": 37,
   "metadata": {},
   "outputs": [],
   "source": [
    "data_file = 'data/TMDB_all_movies.csv'\n",
    "\n",
    "df = pd.read_csv(data_file)\n",
    "df['release_date'] = pd.to_datetime(df['release_date'])"
   ]
  },
  {
   "cell_type": "code",
   "execution_count": 7,
   "metadata": {},
   "outputs": [
    {
     "data": {
      "text/plain": [
       "(count    904594.000000\n",
       " mean          1.796804\n",
       " std           8.187837\n",
       " min           0.000000\n",
       " 25%           0.600000\n",
       " 50%           0.851000\n",
       " 75%           1.404000\n",
       " max        2304.766000\n",
       " Name: popularity, dtype: float64,\n",
       " 0.851,\n",
       " 0    0.6\n",
       " Name: popularity, dtype: float64)"
      ]
     },
     "execution_count": 7,
     "metadata": {},
     "output_type": "execute_result"
    }
   ],
   "source": [
    "df['popularity'].describe(), df['popularity'].median(), df['popularity'].mode()"
   ]
  },
  {
   "cell_type": "code",
   "execution_count": 38,
   "metadata": {},
   "outputs": [],
   "source": [
    "released_df = df[df['status']=='Released']\n",
    "released_df = released_df[released_df['vote_count']>0]\n",
    "released_df.dropna(subset='overview', inplace=True)"
   ]
  },
  {
   "cell_type": "code",
   "execution_count": 47,
   "metadata": {},
   "outputs": [
    {
     "name": "stdout",
     "output_type": "stream",
     "text": [
      "Vote Count\n",
      " MEAN: 72.38, MODE: 0    1\n",
      "Name: vote_count, dtype: int64, MEDIAN: 3.0\n"
     ]
    }
   ],
   "source": [
    "print(\"Vote Count\\n MEAN: {:.2f}, MODE: {}, MEDIAN: {}\".\\\n",
    "      format(released_df['vote_count'].mean(), released_df['vote_count'].mode(), released_df['vote_count'].median()))\n"
   ]
  },
  {
   "cell_type": "code",
   "execution_count": 40,
   "metadata": {},
   "outputs": [],
   "source": [
    "zero_budget_df = released_df[released_df['budget'] == 0]"
   ]
  },
  {
   "cell_type": "code",
   "execution_count": 44,
   "metadata": {},
   "outputs": [
    {
     "data": {
      "text/plain": [
       "count     737.000000\n",
       "mean       25.852611\n",
       "std       153.992131\n",
       "min         0.000000\n",
       "25%         1.871000\n",
       "50%         3.429000\n",
       "75%         7.647000\n",
       "max      2304.766000\n",
       "Name: popularity, dtype: float64"
      ]
     },
     "execution_count": 44,
     "metadata": {},
     "output_type": "execute_result"
    }
   ],
   "source": [
    "zero_budget_df[zero_budget_df['release_date'].dt.year == 2024]['popularity'].describe()"
   ]
  },
  {
   "cell_type": "code",
   "execution_count": 50,
   "metadata": {},
   "outputs": [
    {
     "data": {
      "text/plain": [
       "(35369, 10805)"
      ]
     },
     "execution_count": 50,
     "metadata": {},
     "output_type": "execute_result"
    }
   ],
   "source": [
    "released_df['vote_count'].max(), zero_budget_df['vote_count'].max()"
   ]
  },
  {
   "cell_type": "code",
   "execution_count": 51,
   "metadata": {},
   "outputs": [],
   "source": [
    "commercial_df = released_df[released_df['budget']>0]"
   ]
  },
  {
   "cell_type": "code",
   "execution_count": 54,
   "metadata": {},
   "outputs": [
    {
     "data": {
      "text/html": [
       "<div>\n",
       "<style scoped>\n",
       "    .dataframe tbody tr th:only-of-type {\n",
       "        vertical-align: middle;\n",
       "    }\n",
       "\n",
       "    .dataframe tbody tr th {\n",
       "        vertical-align: top;\n",
       "    }\n",
       "\n",
       "    .dataframe thead th {\n",
       "        text-align: right;\n",
       "    }\n",
       "</style>\n",
       "<table border=\"1\" class=\"dataframe\">\n",
       "  <thead>\n",
       "    <tr style=\"text-align: right;\">\n",
       "      <th></th>\n",
       "      <th>id</th>\n",
       "      <th>vote_average</th>\n",
       "      <th>vote_count</th>\n",
       "      <th>release_date</th>\n",
       "      <th>revenue</th>\n",
       "      <th>runtime</th>\n",
       "      <th>budget</th>\n",
       "      <th>popularity</th>\n",
       "    </tr>\n",
       "  </thead>\n",
       "  <tbody>\n",
       "    <tr>\n",
       "      <th>count</th>\n",
       "      <td>2.651600e+04</td>\n",
       "      <td>26516.000000</td>\n",
       "      <td>26516.000000</td>\n",
       "      <td>25988</td>\n",
       "      <td>2.651600e+04</td>\n",
       "      <td>26516.000000</td>\n",
       "      <td>2.651600e+04</td>\n",
       "      <td>26516.000000</td>\n",
       "    </tr>\n",
       "    <tr>\n",
       "      <th>mean</th>\n",
       "      <td>3.500045e+05</td>\n",
       "      <td>6.290087</td>\n",
       "      <td>640.369098</td>\n",
       "      <td>2006-04-05 19:52:22.311836416</td>\n",
       "      <td>2.579795e+07</td>\n",
       "      <td>87.042239</td>\n",
       "      <td>1.059941e+07</td>\n",
       "      <td>11.428670</td>\n",
       "    </tr>\n",
       "    <tr>\n",
       "      <th>min</th>\n",
       "      <td>5.000000e+00</td>\n",
       "      <td>0.000000</td>\n",
       "      <td>1.000000</td>\n",
       "      <td>1878-05-07 00:00:00</td>\n",
       "      <td>-1.200000e+01</td>\n",
       "      <td>1.000000</td>\n",
       "      <td>1.000000e+00</td>\n",
       "      <td>0.000000</td>\n",
       "    </tr>\n",
       "    <tr>\n",
       "      <th>25%</th>\n",
       "      <td>3.168175e+04</td>\n",
       "      <td>5.300000</td>\n",
       "      <td>2.000000</td>\n",
       "      <td>2001-11-17 12:00:00</td>\n",
       "      <td>0.000000e+00</td>\n",
       "      <td>78.000000</td>\n",
       "      <td>2.000000e+04</td>\n",
       "      <td>1.335000</td>\n",
       "    </tr>\n",
       "    <tr>\n",
       "      <th>50%</th>\n",
       "      <td>2.255595e+05</td>\n",
       "      <td>6.250000</td>\n",
       "      <td>20.000000</td>\n",
       "      <td>2011-09-08 00:00:00</td>\n",
       "      <td>0.000000e+00</td>\n",
       "      <td>93.000000</td>\n",
       "      <td>1.000000e+06</td>\n",
       "      <td>3.947000</td>\n",
       "    </tr>\n",
       "    <tr>\n",
       "      <th>75%</th>\n",
       "      <td>5.879652e+05</td>\n",
       "      <td>7.141250</td>\n",
       "      <td>281.000000</td>\n",
       "      <td>2018-03-09 00:00:00</td>\n",
       "      <td>5.700000e+06</td>\n",
       "      <td>108.000000</td>\n",
       "      <td>8.200000e+06</td>\n",
       "      <td>14.473000</td>\n",
       "    </tr>\n",
       "    <tr>\n",
       "      <th>max</th>\n",
       "      <td>1.257352e+06</td>\n",
       "      <td>10.000000</td>\n",
       "      <td>35369.000000</td>\n",
       "      <td>2024-03-08 00:00:00</td>\n",
       "      <td>2.923706e+09</td>\n",
       "      <td>1265.000000</td>\n",
       "      <td>4.600000e+08</td>\n",
       "      <td>1962.814000</td>\n",
       "    </tr>\n",
       "    <tr>\n",
       "      <th>std</th>\n",
       "      <td>3.657457e+05</td>\n",
       "      <td>1.855221</td>\n",
       "      <td>2036.198615</td>\n",
       "      <td>NaN</td>\n",
       "      <td>1.015640e+08</td>\n",
       "      <td>41.757695</td>\n",
       "      <td>2.633825e+07</td>\n",
       "      <td>32.027276</td>\n",
       "    </tr>\n",
       "  </tbody>\n",
       "</table>\n",
       "</div>"
      ],
      "text/plain": [
       "                 id  vote_average    vote_count  \\\n",
       "count  2.651600e+04  26516.000000  26516.000000   \n",
       "mean   3.500045e+05      6.290087    640.369098   \n",
       "min    5.000000e+00      0.000000      1.000000   \n",
       "25%    3.168175e+04      5.300000      2.000000   \n",
       "50%    2.255595e+05      6.250000     20.000000   \n",
       "75%    5.879652e+05      7.141250    281.000000   \n",
       "max    1.257352e+06     10.000000  35369.000000   \n",
       "std    3.657457e+05      1.855221   2036.198615   \n",
       "\n",
       "                        release_date       revenue       runtime  \\\n",
       "count                          25988  2.651600e+04  26516.000000   \n",
       "mean   2006-04-05 19:52:22.311836416  2.579795e+07     87.042239   \n",
       "min              1878-05-07 00:00:00 -1.200000e+01      1.000000   \n",
       "25%              2001-11-17 12:00:00  0.000000e+00     78.000000   \n",
       "50%              2011-09-08 00:00:00  0.000000e+00     93.000000   \n",
       "75%              2018-03-09 00:00:00  5.700000e+06    108.000000   \n",
       "max              2024-03-08 00:00:00  2.923706e+09   1265.000000   \n",
       "std                              NaN  1.015640e+08     41.757695   \n",
       "\n",
       "             budget    popularity  \n",
       "count  2.651600e+04  26516.000000  \n",
       "mean   1.059941e+07     11.428670  \n",
       "min    1.000000e+00      0.000000  \n",
       "25%    2.000000e+04      1.335000  \n",
       "50%    1.000000e+06      3.947000  \n",
       "75%    8.200000e+06     14.473000  \n",
       "max    4.600000e+08   1962.814000  \n",
       "std    2.633825e+07     32.027276  "
      ]
     },
     "execution_count": 54,
     "metadata": {},
     "output_type": "execute_result"
    }
   ],
   "source": [
    "commercial_df[commercial_df['runtime']>0].describe()"
   ]
  },
  {
   "cell_type": "code",
   "execution_count": 56,
   "metadata": {},
   "outputs": [
    {
     "data": {
      "text/plain": [
       "21.083333333333332"
      ]
     },
     "execution_count": 56,
     "metadata": {},
     "output_type": "execute_result"
    }
   ],
   "source": [
    "1265/60"
   ]
  },
  {
   "cell_type": "code",
   "execution_count": 61,
   "metadata": {},
   "outputs": [
    {
     "data": {
      "text/plain": [
       "0.70      156.0\n",
       "0.80      464.0\n",
       "0.90     1535.0\n",
       "0.95     3376.8\n",
       "0.99    10275.0\n",
       "Name: vote_count, dtype: float64"
      ]
     },
     "execution_count": 61,
     "metadata": {},
     "output_type": "execute_result"
    }
   ],
   "source": [
    "commercial_df['vote_count'].quantile([0.7, 0.8, 0.9, 0.95, 0.99])"
   ]
  },
  {
   "cell_type": "code",
   "execution_count": 62,
   "metadata": {},
   "outputs": [
    {
     "data": {
      "text/plain": [
       "(2699, 25)"
      ]
     },
     "execution_count": 62,
     "metadata": {},
     "output_type": "execute_result"
    }
   ],
   "source": [
    "commercial_df[commercial_df['vote_count']>=1535].shape"
   ]
  },
  {
   "cell_type": "code",
   "execution_count": 55,
   "metadata": {},
   "outputs": [
    {
     "data": {
      "image/png": "[encoded data removed]",
      "text/plain": [
       "<Figure size 640x480 with 1 Axes>"
      ]
     },
     "metadata": {},
     "output_type": "display_data"
    }
   ],
   "source": [
    "plt.hist(commercial_df['runtime'], bins=100)\n",
    "plt.show()"
   ]
  },
  {
   "cell_type": "code",
   "execution_count": 64,
   "metadata": {},
   "outputs": [
    {
     "data": {
      "text/plain": [
       "count    26973.000000\n",
       "mean        85.567493\n",
       "std         42.899366\n",
       "min          0.000000\n",
       "25%         75.000000\n",
       "50%         93.000000\n",
       "75%        108.000000\n",
       "max       1265.000000\n",
       "Name: runtime, dtype: float64"
      ]
     },
     "execution_count": 64,
     "metadata": {},
     "output_type": "execute_result"
    }
   ],
   "source": [
    "commercial_df['runtime'].describe()"
   ]
  },
  {
   "cell_type": "code",
   "execution_count": 66,
   "metadata": {},
   "outputs": [
    {
     "data": {
      "text/plain": [
       "0.1     12.0\n",
       "0.2     58.0\n",
       "0.3     82.0\n",
       "0.4     89.0\n",
       "0.5     93.0\n",
       "0.6     98.0\n",
       "0.7    104.0\n",
       "0.8    113.0\n",
       "0.9    127.0\n",
       "Name: runtime, dtype: float64"
      ]
     },
     "execution_count": 66,
     "metadata": {},
     "output_type": "execute_result"
    }
   ],
   "source": [
    "commercial_df['runtime'].quantile([0.1, 0.2, 0.3, 0.4, 0.5, 0.6, 0.7, 0.8, 0.9])"
   ]
  },
  {
   "cell_type": "code",
   "execution_count": 70,
   "metadata": {},
   "outputs": [
    {
     "data": {
      "text/plain": [
       "Index(['id', 'title', 'vote_average', 'vote_count', 'status', 'release_date',\n",
       "       'revenue', 'runtime', 'budget', 'imdb_id', 'original_language',\n",
       "       'original_title', 'overview', 'popularity', 'tagline', 'genres',\n",
       "       'production_companies', 'production_countries', 'spoken_languages',\n",
       "       'cast', 'director', 'director_of_photography', 'writers', 'producers',\n",
       "       'music_composer'],\n",
       "      dtype='object')"
      ]
     },
     "execution_count": 70,
     "metadata": {},
     "output_type": "execute_result"
    }
   ],
   "source": [
    "commercial_df.columns"
   ]
  },
  {
   "cell_type": "code",
   "execution_count": 76,
   "metadata": {},
   "outputs": [],
   "source": [
    "filtered_df = commercial_df.dropna(subset=['cast', 'director', 'genres'])"
   ]
  },
  {
   "cell_type": "code",
   "execution_count": 77,
   "metadata": {},
   "outputs": [
    {
     "name": "stdout",
     "output_type": "stream",
     "text": [
      "<class 'pandas.core.frame.DataFrame'>\n",
      "Index: 23831 entries, 2 to 898003\n",
      "Data columns (total 25 columns):\n",
      " #   Column                   Non-Null Count  Dtype         \n",
      "---  ------                   --------------  -----         \n",
      " 0   id                       23831 non-null  int64         \n",
      " 1   title                    23831 non-null  object        \n",
      " 2   vote_average             23831 non-null  float64       \n",
      " 3   vote_count               23831 non-null  int64         \n",
      " 4   status                   23831 non-null  object        \n",
      " 5   release_date             23559 non-null  datetime64[ns]\n",
      " 6   revenue                  23831 non-null  float64       \n",
      " 7   runtime                  23831 non-null  int64         \n",
      " 8   budget                   23831 non-null  float64       \n",
      " 9   imdb_id                  22212 non-null  object        \n",
      " 10  original_language        23831 non-null  object        \n",
      " 11  original_title           23831 non-null  object        \n",
      " 12  overview                 23831 non-null  object        \n",
      " 13  popularity               23831 non-null  float64       \n",
      " 14  tagline                  15328 non-null  object        \n",
      " 15  genres                   23831 non-null  object        \n",
      " 16  production_companies     20232 non-null  object        \n",
      " 17  production_countries     21545 non-null  object        \n",
      " 18  spoken_languages         22071 non-null  object        \n",
      " 19  cast                     23831 non-null  object        \n",
      " 20  director                 23831 non-null  object        \n",
      " 21  director_of_photography  15340 non-null  object        \n",
      " 22  writers                  21850 non-null  object        \n",
      " 23  producers                18669 non-null  object        \n",
      " 24  music_composer           9769 non-null   object        \n",
      "dtypes: datetime64[ns](1), float64(4), int64(3), object(17)\n",
      "memory usage: 4.7+ MB\n"
     ]
    }
   ],
   "source": [
    "filtered_df.info()"
   ]
  },
  {
   "cell_type": "code",
   "execution_count": 82,
   "metadata": {},
   "outputs": [
    {
     "data": {
      "text/plain": [
       "0.800      693.00\n",
       "0.850     1102.40\n",
       "0.900     1815.20\n",
       "0.950     3636.20\n",
       "0.990     9811.00\n",
       "0.995    12694.66\n",
       "Name: vote_count, dtype: float64"
      ]
     },
     "execution_count": 82,
     "metadata": {},
     "output_type": "execute_result"
    }
   ],
   "source": [
    "filtered_df.dropna(subset='producers')['vote_count'].quantile([0.8, 0.85, 0.9, 0.95, 0.99, 0.995])"
   ]
  },
  {
   "cell_type": "code",
   "execution_count": 85,
   "metadata": {},
   "outputs": [
    {
     "data": {
      "text/plain": [
       "0.80     439.0\n",
       "0.85     758.0\n",
       "0.90    1380.0\n",
       "Name: vote_count, dtype: float64"
      ]
     },
     "execution_count": 85,
     "metadata": {},
     "output_type": "execute_result"
    }
   ],
   "source": [
    "filtered_df['vote_count'].quantile([0.8, 0.85, 0.9])"
   ]
  },
  {
   "cell_type": "code",
   "execution_count": 86,
   "metadata": {},
   "outputs": [],
   "source": [
    "temp_df = filtered_df.dropna(subset='producers')\n",
    "final_df = temp_df[temp_df['vote_count']>1102]"
   ]
  },
  {
   "cell_type": "code",
   "execution_count": 100,
   "metadata": {},
   "outputs": [],
   "source": [
    "numeric_columns = [column_name for column_name in final_df.columns if final_df[column_name].dtype in (int, float)]\n",
    "# numeric_columns.insert(0, 'title')\n",
    "final_num_df = final_df[numeric_columns]\n",
    "final_num_df.reset_index(inplace=True)"
   ]
  },
  {
   "cell_type": "code",
   "execution_count": 103,
   "metadata": {},
   "outputs": [
    {
     "data": {
      "text/plain": [
       "<Axes: >"
      ]
     },
     "execution_count": 103,
     "metadata": {},
     "output_type": "execute_result"
    },
    {
     "data": {
      "image/png": "[encoded data removed]",
      "text/plain": [
       "<Figure size 640x480 with 2 Axes>"
      ]
     },
     "metadata": {},
     "output_type": "display_data"
    }
   ],
   "source": [
    "import seaborn as sns\n",
    "sns.heatmap(final_num_df.corr(), annot=True)"
   ]
  },
  {
   "cell_type": "code",
   "execution_count": 105,
   "metadata": {},
   "outputs": [
    {
     "data": {
      "text/plain": [
       "Index(['id', 'title', 'vote_average', 'vote_count', 'status', 'release_date',\n",
       "       'revenue', 'runtime', 'budget', 'imdb_id', 'original_language',\n",
       "       'original_title', 'overview', 'popularity', 'tagline', 'genres',\n",
       "       'production_companies', 'production_countries', 'spoken_languages',\n",
       "       'cast', 'director', 'director_of_photography', 'writers', 'producers',\n",
       "       'music_composer'],\n",
       "      dtype='object')"
      ]
     },
     "execution_count": 105,
     "metadata": {},
     "output_type": "execute_result"
    }
   ],
   "source": [
    "final_df.columns[['id', 'title', 'vote_average', 'vote_count', 'release_date',\n",
    "       'revenue', 'runtime', 'budget', 'overview', 'tagline', 'genres',\n",
    "       'production_companies', 'production_countries',\n",
    "       'cast', 'director', 'director_of_photography', 'writers', 'producers',\n",
    "       'music_composer']]"
   ]
  },
  {
   "cell_type": "code",
   "execution_count": 107,
   "metadata": {},
   "outputs": [
    {
     "data": {
      "text/plain": [
       "2         Guillermo Navarro, Phil Parmet, Rodrigo García...\n",
       "6                                               Don Burgess\n",
       "7                                            Conrad L. Hall\n",
       "9                             Nick Tebbet, Thierry Arbogast\n",
       "10             Günther Rittau, Karl Freund, Walter Ruttmann\n",
       "                                ...                        \n",
       "663553                               Matthias Koenigswieser\n",
       "669856                                   Haris Zambarloukos\n",
       "683546                                    Robert Richardson\n",
       "691034              Jean-Claude Kalache, David Juan Bianchi\n",
       "712656                                        Aaron McLisky\n",
       "Name: director_of_photography, Length: 2801, dtype: object"
      ]
     },
     "execution_count": 107,
     "metadata": {},
     "output_type": "execute_result"
    }
   ],
   "source": [
    "final_df['director_of_photography']"
   ]
  }
 ],
 "metadata": {
  "kernelspec": {
   "display_name": "study-env",
   "language": "python",
   "name": "python3"
  },
  "language_info": {
   "codemirror_mode": {
    "name": "ipython",
    "version": 3
   },
   "file_extension": ".py",
   "mimetype": "text/x-python",
   "name": "python",
   "nbconvert_exporter": "python",
   "pygments_lexer": "ipython3",
   "version": "3.9.18"
  }
 },
 "nbformat": 4,
 "nbformat_minor": 2
}
