{
 "cells": [
  {
   "cell_type": "code",
   "execution_count": 1,
   "metadata": {},
   "outputs": [],
   "source": [
    "import numpy as np\n",
    "import pandas as pd\n",
    "import matplotlib.pyplot as plt\n",
    "import seaborn as sns \n",
    "from sklearn.model_selection import train_test_split\n",
    "from sklearn.linear_model import Ridge\n",
    "from sklearn.preprocessing import StandardScaler\n",
    "import time \n",
    "import math\n"
   ]
  },
  {
   "cell_type": "code",
   "execution_count": 2,
   "metadata": {},
   "outputs": [],
   "source": [
    "import os\n",
    "\n",
    "directory = 'casts'  \n",
    "all_files = [os.path.join(directory, f) for f in os.listdir(directory) if f.endswith('.csv')]\n",
    "df_list = [pd.read_csv(file) for file in all_files]\n",
    "casts_df = pd.concat(df_list, ignore_index=True)"
   ]
  },
  {
   "cell_type": "code",
   "execution_count": 3,
   "metadata": {},
   "outputs": [],
   "source": [
    "casts_df.drop('Unnamed: 0', axis=1, inplace=True)"
   ]
  },
  {
   "cell_type": "code",
   "execution_count": 4,
   "metadata": {},
   "outputs": [],
   "source": [
    "casts_df.to_csv('casts_df.csv', index=False)"
   ]
  },
  {
   "cell_type": "code",
   "execution_count": 5,
   "metadata": {},
   "outputs": [
    {
     "name": "stderr",
     "output_type": "stream",
     "text": [
      "/var/folders/dr/lcj3g6gx3ps0px9m71zvyj680000gn/T/ipykernel_3259/2262533351.py:7: DtypeWarning: Columns (1,23,26,28) have mixed types. Specify dtype option on import or set low_memory=False.\n",
      "  df_list = [pd.read_csv(file) for file in all_files]\n"
     ]
    }
   ],
   "source": [
    "import pandas as pd\n",
    "import os\n",
    "\n",
    "directory = 'details'  # CSV 파일이 위치한 디렉토리 경로\n",
    "all_files = [os.path.join(directory, f) for f in os.listdir(directory) if f.endswith('.csv')]\n",
    "\n",
    "df_list = [pd.read_csv(file) for file in all_files]\n",
    "details_df = pd.concat(df_list, ignore_index=True)"
   ]
  },
  {
   "cell_type": "code",
   "execution_count": 6,
   "metadata": {},
   "outputs": [],
   "source": [
    "details_df.drop('Unnamed: 0', axis=1, inplace=True)"
   ]
  },
  {
   "cell_type": "code",
   "execution_count": 7,
   "metadata": {},
   "outputs": [],
   "source": [
    "details_df.to_csv('details_df.csv', index=False)"
   ]
  },
  {
   "cell_type": "code",
   "execution_count": 8,
   "metadata": {},
   "outputs": [],
   "source": [
    "final_tmdb = pd.merge(details_df, casts_df, on='id', how='inner')"
   ]
  },
  {
   "cell_type": "code",
   "execution_count": 9,
   "metadata": {},
   "outputs": [
    {
     "data": {
      "text/plain": [
       "Index(['adult', 'backdrop_path', 'belongs_to_collection', 'budget', 'genres',\n",
       "       'homepage', 'id', 'imdb_id', 'original_language', 'original_title',\n",
       "       'overview', 'popularity', 'poster_path', 'production_companies',\n",
       "       'production_countries', 'release_date', 'revenue', 'runtime',\n",
       "       'spoken_languages', 'status', 'tagline', 'title', 'video',\n",
       "       'vote_average', 'vote_count', 'success', 'status_code',\n",
       "       'status_message', 'casts', 'director', 'director_of_photography',\n",
       "       'producer', 'writer', 'music_composer'],\n",
       "      dtype='object')"
      ]
     },
     "execution_count": 9,
     "metadata": {},
     "output_type": "execute_result"
    }
   ],
   "source": [
    "final_tmdb.columns"
   ]
  },
  {
   "cell_type": "code",
   "execution_count": 10,
   "metadata": {},
   "outputs": [],
   "source": [
    "filtered_df=final_tmdb.dropna(subset='overview')"
   ]
  },
  {
   "cell_type": "code",
   "execution_count": 11,
   "metadata": {},
   "outputs": [],
   "source": [
    "filtered_df2=filtered_df[filtered_df['status'].str.lower() == 'released']"
   ]
  },
  {
   "cell_type": "code",
   "execution_count": 12,
   "metadata": {},
   "outputs": [],
   "source": [
    "final_filterd_tmdb = filtered_df2[['id', 'title', 'budget', 'revenue', 'genres','imdb_id',\n",
    "       'overview', 'tagline', 'popularity', 'poster_path', 'production_companies',\n",
    "       'production_countries', 'release_date', 'runtime',\n",
    "       'vote_average', 'vote_count', 'casts', 'director', 'director_of_photography',\n",
    "       'producer', 'writer', 'music_composer']]"
   ]
  },
  {
   "cell_type": "code",
   "execution_count": 13,
   "metadata": {},
   "outputs": [],
   "source": [
    "final_filterd_tmdb.to_csv('final_filterd_tmdb.csv', index=False)"
   ]
  },
  {
   "cell_type": "code",
   "execution_count": 14,
   "metadata": {},
   "outputs": [],
   "source": [
    "# director_stats = final_filterd_tmdb.explode('director').groupby('director').agg({\n",
    "#     'title': 'count', \n",
    "#     'vote_average': 'mean',\n",
    "#     'vote_count': 'sum'  \n",
    "# }).rename(columns={\n",
    "#     'title': 'movie_count', \n",
    "#     'vote_average': 'avg_rating',\n",
    "#     'vote_count': 'total_votes'\n",
    "# }).reset_index()\n",
    "\n",
    "# actor_stats = final_filterd_tmdb.explode('casts').groupby('casts').agg({\n",
    "#     'title': 'count', \n",
    "#     'vote_average': 'mean',\n",
    "#     'vote_count': 'sum'  \n",
    "# }).rename(columns={\n",
    "#     'title': 'movie_count', \n",
    "#     'vote_average': 'avg_rating',\n",
    "#     'vote_count': 'total_votes'\n",
    "# }).reset_index()\n",
    "\n",
    "# print(director_stats.sort_values(by='movie_count', ascending=False).head())\n",
    "# print(actor_stats.sort_values(by='movie_count', ascending=False).head())\n"
   ]
  },
  {
   "cell_type": "code",
   "execution_count": 15,
   "metadata": {},
   "outputs": [],
   "source": [
    "# director_stats.sort_values(by='total_votes', ascending=False).head()"
   ]
  },
  {
   "cell_type": "code",
   "execution_count": 16,
   "metadata": {},
   "outputs": [],
   "source": [
    "final_filterd_tmdb_genres_drop = final_filterd_tmdb.dropna(subset=['genres'])"
   ]
  },
  {
   "cell_type": "code",
   "execution_count": 17,
   "metadata": {},
   "outputs": [],
   "source": [
    "final_filterd_tmdb_director_drop = final_filterd_tmdb_genres_drop.dropna(subset=['director'])"
   ]
  },
  {
   "cell_type": "code",
   "execution_count": 18,
   "metadata": {},
   "outputs": [],
   "source": [
    "threshold = final_filterd_tmdb_director_drop['vote_count'].quantile(0.99)\n",
    "final_filterd_tmdb2 = final_filterd_tmdb_director_drop[final_filterd_tmdb_director_drop['vote_count'] >= threshold]"
   ]
  },
  {
   "cell_type": "code",
   "execution_count": 19,
   "metadata": {},
   "outputs": [],
   "source": [
    "final_filterd_tmdb2.to_csv('final_filterd_tmdb2.csv',index=False )"
   ]
  },
  {
   "cell_type": "markdown",
   "metadata": {},
   "source": [
    "# Recommendation System 'overview'"
   ]
  },
  {
   "cell_type": "code",
   "execution_count": null,
   "metadata": {},
   "outputs": [],
   "source": [
    "final_filterd_tmdb2['overview'][:20]\n",
    "final_filterd_tmdb2"
   ]
  },
  {
   "cell_type": "code",
   "execution_count": 21,
   "metadata": {},
   "outputs": [
    {
     "name": "stderr",
     "output_type": "stream",
     "text": [
      "/var/folders/dr/lcj3g6gx3ps0px9m71zvyj680000gn/T/ipykernel_3259/2129588785.py:8: SettingWithCopyWarning: \n",
      "A value is trying to be set on a copy of a slice from a DataFrame.\n",
      "Try using .loc[row_indexer,col_indexer] = value instead\n",
      "\n",
      "See the caveats in the documentation: https://pandas.pydata.org/pandas-docs/stable/user_guide/indexing.html#returning-a-view-versus-a-copy\n",
      "  final_filterd_tmdb2['overview'] = final_filterd_tmdb2['overview'].fillna('')\n"
     ]
    },
    {
     "data": {
      "text/plain": [
       "(4976, 19150)"
      ]
     },
     "execution_count": 21,
     "metadata": {},
     "output_type": "execute_result"
    }
   ],
   "source": [
    "#Import TfIdfVectorizer from scikit-learn\n",
    "from sklearn.feature_extraction.text import TfidfVectorizer\n",
    "\n",
    "#Define a TF-IDF Vectorizer Object. Remove all english stop words such as 'the', 'a'\n",
    "tfidf = TfidfVectorizer(stop_words='english')\n",
    "\n",
    "#Replace NaN with an empty string\n",
    "final_filterd_tmdb2['overview'] = final_filterd_tmdb2['overview'].fillna('')\n",
    "\n",
    "#Construct the required TF-IDF matrix by fitting and transforming the data\n",
    "tfidf_matrix = tfidf.fit_transform(final_filterd_tmdb2['overview'])\n",
    "\n",
    "#Output the shape of tfidf_matrix\n",
    "tfidf_matrix.shape"
   ]
  },
  {
   "cell_type": "code",
   "execution_count": 22,
   "metadata": {},
   "outputs": [],
   "source": [
    "# Import linear_kernel\n",
    "from sklearn.metrics.pairwise import linear_kernel\n",
    "\n",
    "# Compute the cosine similarity matrix\n",
    "cosine_sim = linear_kernel(tfidf_matrix, tfidf_matrix)"
   ]
  },
  {
   "cell_type": "code",
   "execution_count": 23,
   "metadata": {},
   "outputs": [],
   "source": [
    "indices = pd.Series(range(len(final_filterd_tmdb2)), index=final_filterd_tmdb2['title']).drop_duplicates()\n"
   ]
  },
  {
   "cell_type": "code",
   "execution_count": 24,
   "metadata": {},
   "outputs": [],
   "source": [
    "def get_recommendations(title, cosine_sim=cosine_sim):\n",
    "    # Get the index of the movie that matches the title\n",
    "    if title not in indices:\n",
    "        return []\n",
    "    idx = indices[title]\n",
    "\n",
    "    # Get the pairwise similarity scores of all movies with that movie\n",
    "    sim_scores = list(enumerate(cosine_sim[idx]))\n",
    "\n",
    "    # Sort the movies based on the similarity scores\n",
    "    sim_scores = sorted(sim_scores, key=lambda x: x[1], reverse=True)\n",
    "\n",
    "    # Get the scores of the 10 most similar movies\n",
    "    sim_scores = sim_scores[1:11]\n",
    "\n",
    "    # Get the movie indices\n",
    "    movie_indices = [i[0] for i in sim_scores]\n",
    "\n",
    "    # Return the top 10 most similar movies\n",
    "    return final_filterd_tmdb2['title'].iloc[movie_indices]"
   ]
  },
  {
   "cell_type": "code",
   "execution_count": 25,
   "metadata": {},
   "outputs": [
    {
     "data": {
      "text/plain": [
       "2488                                     Love Hard\n",
       "4230                                         Troll\n",
       "6327             Operation Fortune: Ruse de Guerre\n",
       "7462                    Borat Subsequent Moviefilm\n",
       "9924                                 After We Fell\n",
       "                            ...                   \n",
       "904548    The SpongeBob Movie: Sponge Out of Water\n",
       "904561                    The Hundred-Foot Journey\n",
       "904568                              McFarland, USA\n",
       "904570                            The Longest Ride\n",
       "904636                            The Book of Life\n",
       "Name: title, Length: 4976, dtype: object"
      ]
     },
     "execution_count": 25,
     "metadata": {},
     "output_type": "execute_result"
    }
   ],
   "source": [
    "final_filterd_tmdb2['title']"
   ]
  },
  {
   "cell_type": "code",
   "execution_count": 26,
   "metadata": {},
   "outputs": [
    {
     "data": {
      "text/plain": [
       "741919    Jurassic World: Fallen Kingdom\n",
       "775623     The Lost World: Jurassic Park\n",
       "775622                     Jurassic Park\n",
       "781127       National Lampoon's Vacation\n",
       "776297                        Free Willy\n",
       "416794                         Hell Fest\n",
       "474265           Return to Jurassic Park\n",
       "477479           Jurassic World Dominion\n",
       "904386                       The Nut Job\n",
       "695536                          Vacation\n",
       "Name: title, dtype: object"
      ]
     },
     "execution_count": 26,
     "metadata": {},
     "output_type": "execute_result"
    }
   ],
   "source": [
    "get_recommendations('Jurassic World')"
   ]
  },
  {
   "cell_type": "markdown",
   "metadata": {},
   "source": [
    "# Recommendation System2"
   ]
  },
  {
   "cell_type": "code",
   "execution_count": 27,
   "metadata": {},
   "outputs": [
    {
     "name": "stdout",
     "output_type": "stream",
     "text": [
      "<class 'pandas.core.series.Series'>\n",
      "Index: 4976 entries, 2488 to 904636\n",
      "Series name: casts\n",
      "Non-Null Count  Dtype \n",
      "--------------  ----- \n",
      "4973 non-null   object\n",
      "dtypes: object(1)\n",
      "memory usage: 77.8+ KB\n"
     ]
    }
   ],
   "source": [
    "final_filterd_tmdb2['casts'].info()"
   ]
  },
  {
   "cell_type": "code",
   "execution_count": 28,
   "metadata": {},
   "outputs": [
    {
     "data": {
      "text/plain": [
       "Index(['id', 'title', 'budget', 'revenue', 'genres', 'imdb_id', 'overview',\n",
       "       'tagline', 'popularity', 'poster_path', 'production_companies',\n",
       "       'production_countries', 'release_date', 'runtime', 'vote_average',\n",
       "       'vote_count', 'casts', 'director', 'director_of_photography',\n",
       "       'producer', 'writer', 'music_composer'],\n",
       "      dtype='object')"
      ]
     },
     "execution_count": 28,
     "metadata": {},
     "output_type": "execute_result"
    }
   ],
   "source": [
    "final_filterd_tmdb2.columns"
   ]
  },
  {
   "cell_type": "code",
   "execution_count": 29,
   "metadata": {},
   "outputs": [
    {
     "data": {
      "text/plain": [
       "(id                         0\n",
       " title                      0\n",
       " genres                     0\n",
       " casts                      0\n",
       " director                   0\n",
       " writer                     0\n",
       " tagline                    0\n",
       " production_companies       0\n",
       " director_of_photography    0\n",
       " producer                   0\n",
       " music_composer             0\n",
       " dtype: int64,\n",
       "             id                              title  \\\n",
       " 2488  734265.0                          Love Hard   \n",
       " 4230  736526.0                              Troll   \n",
       " 6327  739405.0  Operation Fortune: Ruse de Guerre   \n",
       " 7462  740985.0         Borat Subsequent Moviefilm   \n",
       " 9924  744275.0                      After We Fell   \n",
       " \n",
       "                                    genres  \\\n",
       " 2488                      Comedy, Romance   \n",
       " 4230           Fantasy, Action, Adventure   \n",
       " 6327  Action, Thriller, Comedy, Adventure   \n",
       " 7462                               Comedy   \n",
       " 9924                       Romance, Drama   \n",
       " \n",
       "                                                   casts             director  \\\n",
       " 2488  ['Nina Dobrev', 'Jimmy O. Yang', 'Darren Barne...   ['Hernán Jiménez']   \n",
       " 4230  ['Ine Marie Wilmann', 'Kim S. Falck-Jørgensen'...      ['Roar Uthaug']   \n",
       " 6327  ['Jason Statham', 'Aubrey Plaza', 'Josh Hartne...      ['Guy Ritchie']   \n",
       " 7462  ['Sacha Baron Cohen', 'Maria Bakalova', 'Tom H...    ['Jason Woliner']   \n",
       " 9924  ['Josephine Langford', 'Hero Fiennes Tiffin', ...  ['Castille Landon']   \n",
       " \n",
       "                                                  writer  \\\n",
       " 2488                 ['Daniel Mackey', 'Rebecca Ewing']   \n",
       " 4230                     ['Roar Uthaug', 'Espen Aukan']   \n",
       " 6327    ['Guy Ritchie', 'Marn Davies', 'Ivan Atkinson']   \n",
       " 7462  ['Sacha Baron Cohen', 'Anthony Hines', 'Peter ...   \n",
       " 9924                     ['Sharon Soboil', 'Anna Todd']   \n",
       " \n",
       "                                                 tagline  \\\n",
       " 2488  A romantic comedy about the lies we tell for l...   \n",
       " 4230                               Mountains will move.   \n",
       " 6327    In this operation, everyone has a part to play.   \n",
       " 7462  Delivery of prodigious bribe to American regim...   \n",
       " 9924                                                      \n",
       " \n",
       "                                    production_companies  \\\n",
       " 2488                        Wonderland Sound and Vision   \n",
       " 4230                                        Motion Blur   \n",
       " 6327  Miramax, STXfilms, Toff Guy Films, AZ Celtic F...   \n",
       " 7462               Four by Two, Oak Springs Productions   \n",
       " 9924  Voltage Pictures, Wattpad, Vertical Entertainm...   \n",
       " \n",
       "      director_of_photography  \\\n",
       " 2488       ['Shane Hurlbut']   \n",
       " 4230         ['Jallo Faber']   \n",
       " 6327        ['Alan Stewart']   \n",
       " 7462    ['Luke Geissbuhler']   \n",
       " 9924         ['Joshua Reis']   \n",
       " \n",
       "                                                producer         music_composer  \n",
       " 2488                              ['McG', 'Mary Viola']         ['Mark Orton']  \n",
       " 4230         ['Espen Horn', 'Kristian Strand Sinkerud']    ['Johannes Ringen']  \n",
       " 6327  ['Guy Ritchie', 'Jason Statham', 'Steven Chasm...     ['Chris Benstead']  \n",
       " 7462  ['Sacha Baron Cohen', 'Anthony Hines', 'Monica...  ['Erran Baron Cohen']  \n",
       " 9924  ['Jennifer Gibgot', 'Mark Canton', 'Courtney S...      ['George Kallis']  )"
      ]
     },
     "execution_count": 29,
     "metadata": {},
     "output_type": "execute_result"
    }
   ],
   "source": [
    "\n",
    "movie_data_selected = final_filterd_tmdb2[['id','title', 'genres', 'casts', 'director', 'writer', 'tagline','production_companies','director_of_photography', 'producer', 'music_composer']].fillna('')\n",
    "missing_values = movie_data_selected.isnull().sum()\n",
    "preprocessed_data = movie_data_selected.head()\n",
    "\n",
    "missing_values, preprocessed_data\n"
   ]
  },
  {
   "cell_type": "code",
   "execution_count": 30,
   "metadata": {},
   "outputs": [
    {
     "data": {
      "text/plain": [
       "(4976, 33499)"
      ]
     },
     "execution_count": 30,
     "metadata": {},
     "output_type": "execute_result"
    }
   ],
   "source": [
    "from sklearn.feature_extraction.text import TfidfVectorizer\n",
    "movie_data_selected['combined_features'] = movie_data_selected['genres'] + ' ' + movie_data_selected['casts'] + ' ' + movie_data_selected['director'] + ' ' + movie_data_selected['writer']+ ' ' + movie_data_selected['tagline']+ ' ' + movie_data_selected['production_companies']+ ' ' + movie_data_selected['director_of_photography']+ ' ' + movie_data_selected['producer']+ ' ' + movie_data_selected['music_composer']\n",
    "tfidf_vectorizer = TfidfVectorizer(stop_words='english')\n",
    "tfidf_matrix = tfidf_vectorizer.fit_transform(movie_data_selected['combined_features'])\n",
    "tfidf_matrix.shape"
   ]
  },
  {
   "cell_type": "code",
   "execution_count": 31,
   "metadata": {},
   "outputs": [],
   "source": [
    "movie_data_selected2 = movie_data_selected.reset_index()"
   ]
  },
  {
   "cell_type": "code",
   "execution_count": 32,
   "metadata": {},
   "outputs": [
    {
     "data": {
      "text/html": [
       "<div>\n",
       "<style scoped>\n",
       "    .dataframe tbody tr th:only-of-type {\n",
       "        vertical-align: middle;\n",
       "    }\n",
       "\n",
       "    .dataframe tbody tr th {\n",
       "        vertical-align: top;\n",
       "    }\n",
       "\n",
       "    .dataframe thead th {\n",
       "        text-align: right;\n",
       "    }\n",
       "</style>\n",
       "<table border=\"1\" class=\"dataframe\">\n",
       "  <thead>\n",
       "    <tr style=\"text-align: right;\">\n",
       "      <th></th>\n",
       "      <th>id</th>\n",
       "      <th>title</th>\n",
       "      <th>genres</th>\n",
       "      <th>casts</th>\n",
       "      <th>director</th>\n",
       "      <th>writer</th>\n",
       "      <th>tagline</th>\n",
       "      <th>production_companies</th>\n",
       "      <th>director_of_photography</th>\n",
       "      <th>producer</th>\n",
       "      <th>music_composer</th>\n",
       "      <th>combined_features</th>\n",
       "    </tr>\n",
       "  </thead>\n",
       "  <tbody>\n",
       "    <tr>\n",
       "      <th>2488</th>\n",
       "      <td>734265.0</td>\n",
       "      <td>Love Hard</td>\n",
       "      <td>Comedy, Romance</td>\n",
       "      <td>['Nina Dobrev', 'Jimmy O. Yang', 'Darren Barne...</td>\n",
       "      <td>['Hernán Jiménez']</td>\n",
       "      <td>['Daniel Mackey', 'Rebecca Ewing']</td>\n",
       "      <td>A romantic comedy about the lies we tell for l...</td>\n",
       "      <td>Wonderland Sound and Vision</td>\n",
       "      <td>['Shane Hurlbut']</td>\n",
       "      <td>['McG', 'Mary Viola']</td>\n",
       "      <td>['Mark Orton']</td>\n",
       "      <td>Comedy, Romance ['Nina Dobrev', 'Jimmy O. Yang...</td>\n",
       "    </tr>\n",
       "    <tr>\n",
       "      <th>4230</th>\n",
       "      <td>736526.0</td>\n",
       "      <td>Troll</td>\n",
       "      <td>Fantasy, Action, Adventure</td>\n",
       "      <td>['Ine Marie Wilmann', 'Kim S. Falck-Jørgensen'...</td>\n",
       "      <td>['Roar Uthaug']</td>\n",
       "      <td>['Roar Uthaug', 'Espen Aukan']</td>\n",
       "      <td>Mountains will move.</td>\n",
       "      <td>Motion Blur</td>\n",
       "      <td>['Jallo Faber']</td>\n",
       "      <td>['Espen Horn', 'Kristian Strand Sinkerud']</td>\n",
       "      <td>['Johannes Ringen']</td>\n",
       "      <td>Fantasy, Action, Adventure ['Ine Marie Wilmann...</td>\n",
       "    </tr>\n",
       "    <tr>\n",
       "      <th>6327</th>\n",
       "      <td>739405.0</td>\n",
       "      <td>Operation Fortune: Ruse de Guerre</td>\n",
       "      <td>Action, Thriller, Comedy, Adventure</td>\n",
       "      <td>['Jason Statham', 'Aubrey Plaza', 'Josh Hartne...</td>\n",
       "      <td>['Guy Ritchie']</td>\n",
       "      <td>['Guy Ritchie', 'Marn Davies', 'Ivan Atkinson']</td>\n",
       "      <td>In this operation, everyone has a part to play.</td>\n",
       "      <td>Miramax, STXfilms, Toff Guy Films, AZ Celtic F...</td>\n",
       "      <td>['Alan Stewart']</td>\n",
       "      <td>['Guy Ritchie', 'Jason Statham', 'Steven Chasm...</td>\n",
       "      <td>['Chris Benstead']</td>\n",
       "      <td>Action, Thriller, Comedy, Adventure ['Jason St...</td>\n",
       "    </tr>\n",
       "    <tr>\n",
       "      <th>7462</th>\n",
       "      <td>740985.0</td>\n",
       "      <td>Borat Subsequent Moviefilm</td>\n",
       "      <td>Comedy</td>\n",
       "      <td>['Sacha Baron Cohen', 'Maria Bakalova', 'Tom H...</td>\n",
       "      <td>['Jason Woliner']</td>\n",
       "      <td>['Sacha Baron Cohen', 'Anthony Hines', 'Peter ...</td>\n",
       "      <td>Delivery of prodigious bribe to American regim...</td>\n",
       "      <td>Four by Two, Oak Springs Productions</td>\n",
       "      <td>['Luke Geissbuhler']</td>\n",
       "      <td>['Sacha Baron Cohen', 'Anthony Hines', 'Monica...</td>\n",
       "      <td>['Erran Baron Cohen']</td>\n",
       "      <td>Comedy ['Sacha Baron Cohen', 'Maria Bakalova',...</td>\n",
       "    </tr>\n",
       "    <tr>\n",
       "      <th>9924</th>\n",
       "      <td>744275.0</td>\n",
       "      <td>After We Fell</td>\n",
       "      <td>Romance, Drama</td>\n",
       "      <td>['Josephine Langford', 'Hero Fiennes Tiffin', ...</td>\n",
       "      <td>['Castille Landon']</td>\n",
       "      <td>['Sharon Soboil', 'Anna Todd']</td>\n",
       "      <td></td>\n",
       "      <td>Voltage Pictures, Wattpad, Vertical Entertainm...</td>\n",
       "      <td>['Joshua Reis']</td>\n",
       "      <td>['Jennifer Gibgot', 'Mark Canton', 'Courtney S...</td>\n",
       "      <td>['George Kallis']</td>\n",
       "      <td>Romance, Drama ['Josephine Langford', 'Hero Fi...</td>\n",
       "    </tr>\n",
       "    <tr>\n",
       "      <th>...</th>\n",
       "      <td>...</td>\n",
       "      <td>...</td>\n",
       "      <td>...</td>\n",
       "      <td>...</td>\n",
       "      <td>...</td>\n",
       "      <td>...</td>\n",
       "      <td>...</td>\n",
       "      <td>...</td>\n",
       "      <td>...</td>\n",
       "      <td>...</td>\n",
       "      <td>...</td>\n",
       "      <td>...</td>\n",
       "    </tr>\n",
       "    <tr>\n",
       "      <th>904548</th>\n",
       "      <td>228165.0</td>\n",
       "      <td>The SpongeBob Movie: Sponge Out of Water</td>\n",
       "      <td>Family, Adventure, Comedy, Fantasy, Animation</td>\n",
       "      <td>['Tom Kenny', 'Bill Fagerbakke', 'Rodger Bumpa...</td>\n",
       "      <td>['Mike Mitchell', 'Paul Tibbitt']</td>\n",
       "      <td>['Glenn Berger', 'Jonathan Aibel', 'Stephen Hi...</td>\n",
       "      <td>Making waves in our world.</td>\n",
       "      <td>Paramount Animation, Paramount, Nickelodeon Mo...</td>\n",
       "      <td>['Phil Meheux']</td>\n",
       "      <td>['Mary Parent', 'Nan Morales', 'Craig Sost']</td>\n",
       "      <td>['John Debney']</td>\n",
       "      <td>Family, Adventure, Comedy, Fantasy, Animation ...</td>\n",
       "    </tr>\n",
       "    <tr>\n",
       "      <th>904561</th>\n",
       "      <td>228194.0</td>\n",
       "      <td>The Hundred-Foot Journey</td>\n",
       "      <td>Drama, Comedy</td>\n",
       "      <td>['Helen Mirren', 'Manish Dayal', 'Om Puri', 'C...</td>\n",
       "      <td>['Lasse Hallström']</td>\n",
       "      <td>['Steven Knight', 'Richard C. Morais']</td>\n",
       "      <td>Life's greatest journey begins with the first ...</td>\n",
       "      <td>Amblin Entertainment, Harpo Films, Participant...</td>\n",
       "      <td>['Linus Sandgren']</td>\n",
       "      <td>['Steven Spielberg', 'Oprah Winfrey']</td>\n",
       "      <td>['A.R. Rahman']</td>\n",
       "      <td>Drama, Comedy ['Helen Mirren', 'Manish Dayal',...</td>\n",
       "    </tr>\n",
       "    <tr>\n",
       "      <th>904568</th>\n",
       "      <td>228203.0</td>\n",
       "      <td>McFarland, USA</td>\n",
       "      <td>Drama, Family</td>\n",
       "      <td>['Kevin Costner', 'Ramiro Rodriguez', 'Maria B...</td>\n",
       "      <td>['Niki Caro']</td>\n",
       "      <td>['Grant Thompson', 'Christopher Cleveland', 'B...</td>\n",
       "      <td>Champions can come from anywhere.</td>\n",
       "      <td>Mayhem Pictures, Walt Disney Pictures</td>\n",
       "      <td>['Adam Arkapaw']</td>\n",
       "      <td>['Mark Ciardi', 'Gordon Gray']</td>\n",
       "      <td>['Antonio Pinto']</td>\n",
       "      <td>Drama, Family ['Kevin Costner', 'Ramiro Rodrig...</td>\n",
       "    </tr>\n",
       "    <tr>\n",
       "      <th>904570</th>\n",
       "      <td>228205.0</td>\n",
       "      <td>The Longest Ride</td>\n",
       "      <td>Drama, Romance</td>\n",
       "      <td>['Scott Eastwood', 'Britt Robertson', 'Lolita ...</td>\n",
       "      <td>['George Tillman Jr.']</td>\n",
       "      <td>['Craig Bolotin', 'Nicholas Sparks']</td>\n",
       "      <td>Two couples. Two love stories. One epic tale.</td>\n",
       "      <td>Fox 2000 Pictures, Temple Hill Entertainment</td>\n",
       "      <td>['David Tattersall']</td>\n",
       "      <td>['Wyck Godfrey', 'Marty Bowen', 'Nicholas Spar...</td>\n",
       "      <td>['Mark Isham']</td>\n",
       "      <td>Drama, Romance ['Scott Eastwood', 'Britt Rober...</td>\n",
       "    </tr>\n",
       "    <tr>\n",
       "      <th>904636</th>\n",
       "      <td>228326.0</td>\n",
       "      <td>The Book of Life</td>\n",
       "      <td>Animation, Adventure, Comedy, Family, Fantasy</td>\n",
       "      <td>['Diego Luna', 'Channing Tatum', 'Zoe Saldaña'...</td>\n",
       "      <td>['Jorge R. Gutierrez']</td>\n",
       "      <td>['Doug Langdale', 'Jorge R. Gutierrez']</td>\n",
       "      <td>A blast of fun.</td>\n",
       "      <td>Reel FX Creative Studios, 20th Century Fox Ani...</td>\n",
       "      <td>[]</td>\n",
       "      <td>['Guillermo del Toro', 'Brad Booker', 'Aaron B...</td>\n",
       "      <td>['Gustavo Santaolalla']</td>\n",
       "      <td>Animation, Adventure, Comedy, Family, Fantasy ...</td>\n",
       "    </tr>\n",
       "  </tbody>\n",
       "</table>\n",
       "<p>4976 rows × 12 columns</p>\n",
       "</div>"
      ],
      "text/plain": [
       "              id                                     title  \\\n",
       "2488    734265.0                                 Love Hard   \n",
       "4230    736526.0                                     Troll   \n",
       "6327    739405.0         Operation Fortune: Ruse de Guerre   \n",
       "7462    740985.0                Borat Subsequent Moviefilm   \n",
       "9924    744275.0                             After We Fell   \n",
       "...          ...                                       ...   \n",
       "904548  228165.0  The SpongeBob Movie: Sponge Out of Water   \n",
       "904561  228194.0                  The Hundred-Foot Journey   \n",
       "904568  228203.0                            McFarland, USA   \n",
       "904570  228205.0                          The Longest Ride   \n",
       "904636  228326.0                          The Book of Life   \n",
       "\n",
       "                                               genres  \\\n",
       "2488                                  Comedy, Romance   \n",
       "4230                       Fantasy, Action, Adventure   \n",
       "6327              Action, Thriller, Comedy, Adventure   \n",
       "7462                                           Comedy   \n",
       "9924                                   Romance, Drama   \n",
       "...                                               ...   \n",
       "904548  Family, Adventure, Comedy, Fantasy, Animation   \n",
       "904561                                  Drama, Comedy   \n",
       "904568                                  Drama, Family   \n",
       "904570                                 Drama, Romance   \n",
       "904636  Animation, Adventure, Comedy, Family, Fantasy   \n",
       "\n",
       "                                                    casts  \\\n",
       "2488    ['Nina Dobrev', 'Jimmy O. Yang', 'Darren Barne...   \n",
       "4230    ['Ine Marie Wilmann', 'Kim S. Falck-Jørgensen'...   \n",
       "6327    ['Jason Statham', 'Aubrey Plaza', 'Josh Hartne...   \n",
       "7462    ['Sacha Baron Cohen', 'Maria Bakalova', 'Tom H...   \n",
       "9924    ['Josephine Langford', 'Hero Fiennes Tiffin', ...   \n",
       "...                                                   ...   \n",
       "904548  ['Tom Kenny', 'Bill Fagerbakke', 'Rodger Bumpa...   \n",
       "904561  ['Helen Mirren', 'Manish Dayal', 'Om Puri', 'C...   \n",
       "904568  ['Kevin Costner', 'Ramiro Rodriguez', 'Maria B...   \n",
       "904570  ['Scott Eastwood', 'Britt Robertson', 'Lolita ...   \n",
       "904636  ['Diego Luna', 'Channing Tatum', 'Zoe Saldaña'...   \n",
       "\n",
       "                                 director  \\\n",
       "2488                   ['Hernán Jiménez']   \n",
       "4230                      ['Roar Uthaug']   \n",
       "6327                      ['Guy Ritchie']   \n",
       "7462                    ['Jason Woliner']   \n",
       "9924                  ['Castille Landon']   \n",
       "...                                   ...   \n",
       "904548  ['Mike Mitchell', 'Paul Tibbitt']   \n",
       "904561                ['Lasse Hallström']   \n",
       "904568                      ['Niki Caro']   \n",
       "904570             ['George Tillman Jr.']   \n",
       "904636             ['Jorge R. Gutierrez']   \n",
       "\n",
       "                                                   writer  \\\n",
       "2488                   ['Daniel Mackey', 'Rebecca Ewing']   \n",
       "4230                       ['Roar Uthaug', 'Espen Aukan']   \n",
       "6327      ['Guy Ritchie', 'Marn Davies', 'Ivan Atkinson']   \n",
       "7462    ['Sacha Baron Cohen', 'Anthony Hines', 'Peter ...   \n",
       "9924                       ['Sharon Soboil', 'Anna Todd']   \n",
       "...                                                   ...   \n",
       "904548  ['Glenn Berger', 'Jonathan Aibel', 'Stephen Hi...   \n",
       "904561             ['Steven Knight', 'Richard C. Morais']   \n",
       "904568  ['Grant Thompson', 'Christopher Cleveland', 'B...   \n",
       "904570               ['Craig Bolotin', 'Nicholas Sparks']   \n",
       "904636            ['Doug Langdale', 'Jorge R. Gutierrez']   \n",
       "\n",
       "                                                  tagline  \\\n",
       "2488    A romantic comedy about the lies we tell for l...   \n",
       "4230                                 Mountains will move.   \n",
       "6327      In this operation, everyone has a part to play.   \n",
       "7462    Delivery of prodigious bribe to American regim...   \n",
       "9924                                                        \n",
       "...                                                   ...   \n",
       "904548                         Making waves in our world.   \n",
       "904561  Life's greatest journey begins with the first ...   \n",
       "904568                  Champions can come from anywhere.   \n",
       "904570      Two couples. Two love stories. One epic tale.   \n",
       "904636                                    A blast of fun.   \n",
       "\n",
       "                                     production_companies  \\\n",
       "2488                          Wonderland Sound and Vision   \n",
       "4230                                          Motion Blur   \n",
       "6327    Miramax, STXfilms, Toff Guy Films, AZ Celtic F...   \n",
       "7462                 Four by Two, Oak Springs Productions   \n",
       "9924    Voltage Pictures, Wattpad, Vertical Entertainm...   \n",
       "...                                                   ...   \n",
       "904548  Paramount Animation, Paramount, Nickelodeon Mo...   \n",
       "904561  Amblin Entertainment, Harpo Films, Participant...   \n",
       "904568              Mayhem Pictures, Walt Disney Pictures   \n",
       "904570       Fox 2000 Pictures, Temple Hill Entertainment   \n",
       "904636  Reel FX Creative Studios, 20th Century Fox Ani...   \n",
       "\n",
       "       director_of_photography  \\\n",
       "2488         ['Shane Hurlbut']   \n",
       "4230           ['Jallo Faber']   \n",
       "6327          ['Alan Stewart']   \n",
       "7462      ['Luke Geissbuhler']   \n",
       "9924           ['Joshua Reis']   \n",
       "...                        ...   \n",
       "904548         ['Phil Meheux']   \n",
       "904561      ['Linus Sandgren']   \n",
       "904568        ['Adam Arkapaw']   \n",
       "904570    ['David Tattersall']   \n",
       "904636                      []   \n",
       "\n",
       "                                                 producer  \\\n",
       "2488                                ['McG', 'Mary Viola']   \n",
       "4230           ['Espen Horn', 'Kristian Strand Sinkerud']   \n",
       "6327    ['Guy Ritchie', 'Jason Statham', 'Steven Chasm...   \n",
       "7462    ['Sacha Baron Cohen', 'Anthony Hines', 'Monica...   \n",
       "9924    ['Jennifer Gibgot', 'Mark Canton', 'Courtney S...   \n",
       "...                                                   ...   \n",
       "904548       ['Mary Parent', 'Nan Morales', 'Craig Sost']   \n",
       "904561              ['Steven Spielberg', 'Oprah Winfrey']   \n",
       "904568                     ['Mark Ciardi', 'Gordon Gray']   \n",
       "904570  ['Wyck Godfrey', 'Marty Bowen', 'Nicholas Spar...   \n",
       "904636  ['Guillermo del Toro', 'Brad Booker', 'Aaron B...   \n",
       "\n",
       "                 music_composer  \\\n",
       "2488             ['Mark Orton']   \n",
       "4230        ['Johannes Ringen']   \n",
       "6327         ['Chris Benstead']   \n",
       "7462      ['Erran Baron Cohen']   \n",
       "9924          ['George Kallis']   \n",
       "...                         ...   \n",
       "904548          ['John Debney']   \n",
       "904561          ['A.R. Rahman']   \n",
       "904568        ['Antonio Pinto']   \n",
       "904570           ['Mark Isham']   \n",
       "904636  ['Gustavo Santaolalla']   \n",
       "\n",
       "                                        combined_features  \n",
       "2488    Comedy, Romance ['Nina Dobrev', 'Jimmy O. Yang...  \n",
       "4230    Fantasy, Action, Adventure ['Ine Marie Wilmann...  \n",
       "6327    Action, Thriller, Comedy, Adventure ['Jason St...  \n",
       "7462    Comedy ['Sacha Baron Cohen', 'Maria Bakalova',...  \n",
       "9924    Romance, Drama ['Josephine Langford', 'Hero Fi...  \n",
       "...                                                   ...  \n",
       "904548  Family, Adventure, Comedy, Fantasy, Animation ...  \n",
       "904561  Drama, Comedy ['Helen Mirren', 'Manish Dayal',...  \n",
       "904568  Drama, Family ['Kevin Costner', 'Ramiro Rodrig...  \n",
       "904570  Drama, Romance ['Scott Eastwood', 'Britt Rober...  \n",
       "904636  Animation, Adventure, Comedy, Family, Fantasy ...  \n",
       "\n",
       "[4976 rows x 12 columns]"
      ]
     },
     "execution_count": 32,
     "metadata": {},
     "output_type": "execute_result"
    }
   ],
   "source": [
    "movie_data_selected"
   ]
  },
  {
   "cell_type": "code",
   "execution_count": 57,
   "metadata": {},
   "outputs": [
    {
     "data": {
      "text/plain": [
       "['Kung Fu Panda 2',\n",
       " 'Kung Fu Panda 3',\n",
       " 'Trolls',\n",
       " '3-Iron',\n",
       " 'The Croods',\n",
       " 'Monsters vs Aliens',\n",
       " 'Spring, Summer, Fall, Winter... and Spring',\n",
       " 'Sinbad: Legend of the Seven Seas',\n",
       " 'The SpongeBob Movie: Sponge on the Run',\n",
       " 'The Interview']"
      ]
     },
     "execution_count": 57,
     "metadata": {},
     "output_type": "execute_result"
    }
   ],
   "source": [
    "from sklearn.metrics.pairwise import linear_kernel\n",
    "\n",
    "cosine_sim = linear_kernel(tfidf_matrix, tfidf_matrix)\n",
    "\n",
    "def get_recommendations(title, cosine_sim=cosine_sim):\n",
    "    idx = movie_data_selected2.index[movie_data_selected2['title'] == title].tolist()\n",
    "    if not idx:\n",
    "        return \"Movie not found.\"\n",
    "    idx = idx[0]\n",
    "    sim_scores = list(enumerate(cosine_sim[idx]))\n",
    "    sim_scores = sorted(sim_scores, key=lambda x: x[1], reverse=True)\n",
    "    sim_scores = sim_scores[1:11]\n",
    "    movie_indices = [i[0] for i in sim_scores]\n",
    "    return movie_data_selected2['title'].iloc[movie_indices].tolist()\n",
    "\n",
    "get_recommendations(\"Kung Fu Panda\")\n"
   ]
  },
  {
   "cell_type": "code",
   "execution_count": null,
   "metadata": {},
   "outputs": [],
   "source": []
  }
 ],
 "metadata": {
  "kernelspec": {
   "display_name": "study-env",
   "language": "python",
   "name": "python3"
  },
  "language_info": {
   "codemirror_mode": {
    "name": "ipython",
    "version": 3
   },
   "file_extension": ".py",
   "mimetype": "text/x-python",
   "name": "python",
   "nbconvert_exporter": "python",
   "pygments_lexer": "ipython3",
   "version": "3.9.18"
  }
 },
 "nbformat": 4,
 "nbformat_minor": 2
}
