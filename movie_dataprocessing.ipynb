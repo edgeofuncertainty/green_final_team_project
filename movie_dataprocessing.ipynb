{
 "cells": [
  {
   "cell_type": "code",
   "execution_count": null,
   "metadata": {},
   "outputs": [],
   "source": [
    "import numpy as np\n",
    "import pandas as pd\n",
    "import matplotlib.pyplot as plt"
   ]
  },
  {
   "cell_type": "code",
   "execution_count": null,
   "metadata": {},
   "outputs": [],
   "source": [
    "moviedata = pd.read_csv('data/TMDB_all_movies.csv', encoding='utf-8')"
   ]
  },
  {
   "cell_type": "code",
   "execution_count": null,
   "metadata": {},
   "outputs": [],
   "source": [
    "moviedata"
   ]
  },
  {
   "cell_type": "code",
   "execution_count": null,
   "metadata": {},
   "outputs": [],
   "source": [
    "moviedata['status'].unique()"
   ]
  },
  {
   "cell_type": "markdown",
   "metadata": {},
   "source": [
    "Released (개봉됨): 해당 영화가 이미 상영이 시작되어 일반 관객에게 공개되었거나 유통되었음\n",
    "Post Production (포스트 프로덕션): 촬영이 완료된 영화의 후속 작업을 나타냅니다. 이 단계에서는 영상 편집, 음향 편집, 특수 효과 및 기타 기술적인 작업 진행 중\n",
    "Rumored (루머에 의한 추정): 아직 공식적으로 발표되지 않았지만, 루머나 추측에 의해 언급되는 영화나 프로젝트\n",
    "Canceled (취소됨): 해당 영화 프로젝트가 중단되었거나 취소되었음을 나타냅니다. 이는 다양한 이유로 인해 제작이 중단된 경우에 해당\n",
    "Planned (계획 중): 아직 제작이 시작되지 않았지만, 앞으로의 일정에 해당 영화를 제작할 계획이 있는 상태\n",
    "In Production (제작 중): 현재 해당 영화가 제작 단계에 있으며, 촬영이 진행 중이거나 다양한 제작 과정이 진행 중"
   ]
  },
  {
   "cell_type": "code",
   "execution_count": null,
   "metadata": {},
   "outputs": [],
   "source": [
    "moviedata_released = moviedata[moviedata['status'] == 'Released'].reset_index(drop=True)\n"
   ]
  },
  {
   "cell_type": "code",
   "execution_count": null,
   "metadata": {},
   "outputs": [],
   "source": [
    "moviedata_released"
   ]
  },
  {
   "cell_type": "code",
   "execution_count": null,
   "metadata": {},
   "outputs": [],
   "source": [
    "released_movies_nonzero_budget = moviedata_released[moviedata_released['budget'] != 0.0]"
   ]
  },
  {
   "cell_type": "code",
   "execution_count": null,
   "metadata": {},
   "outputs": [],
   "source": [
    "released_movies_nonzero_budget.reset_index(drop=True)"
   ]
  },
  {
   "cell_type": "code",
   "execution_count": null,
   "metadata": {},
   "outputs": [],
   "source": [
    "moviedata_votecount = released_movies_nonzero_budget[released_movies_nonzero_budget['vote_count'] != 0]"
   ]
  },
  {
   "cell_type": "code",
   "execution_count": null,
   "metadata": {},
   "outputs": [],
   "source": [
    "moviedata_votecount.reset_index(drop=True)"
   ]
  },
  {
   "cell_type": "code",
   "execution_count": null,
   "metadata": {},
   "outputs": [],
   "source": [
    "moviedata_budget = moviedata_votecount[moviedata_votecount['budget'] != 0]"
   ]
  },
  {
   "cell_type": "code",
   "execution_count": null,
   "metadata": {},
   "outputs": [],
   "source": [
    "moviedata_budget.reset_index(drop=True)"
   ]
  }
 ],
 "metadata": {
  "kernelspec": {
   "display_name": "study-env",
   "language": "python",
   "name": "python3"
  },
  "language_info": {
   "codemirror_mode": {
    "name": "ipython",
    "version": 3
   },
   "file_extension": ".py",
   "mimetype": "text/x-python",
   "name": "python",
   "nbconvert_exporter": "python",
   "pygments_lexer": "ipython3",
   "version": "3.9.18"
  }
 },
 "nbformat": 4,
 "nbformat_minor": 2
}
