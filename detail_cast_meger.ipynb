{
 "cells": [
  {
   "cell_type": "code",
   "execution_count": 1,
   "metadata": {},
   "outputs": [],
   "source": [
    "import pandas as pd\n",
    "import numpy as np\n",
    "import matplotlib.pyplot as plt\n",
    "import os"
   ]
  },
  {
   "cell_type": "code",
   "execution_count": 2,
   "metadata": {},
   "outputs": [],
   "source": [
    "details = []\n",
    "casts = []\n",
    "for root, dirs, files in os.walk('data/tmdb_divided'):\n",
    "    for file in files:\n",
    "        if file.endswith('.csv'):\n",
    "            if 'detail' in file:\n",
    "                details.append(os.path.join(root, file))\n",
    "            else:\n",
    "                casts.append(os.path.join(root, file))\n",
    "details.sort()\n",
    "casts.sort()"
   ]
  },
  {
   "cell_type": "code",
   "execution_count": 3,
   "metadata": {},
   "outputs": [
    {
     "name": "stderr",
     "output_type": "stream",
     "text": [
      "/var/folders/ny/4mt1_15d103gx2y1gsxzf4t00000gn/T/ipykernel_36594/2079162657.py:3: DtypeWarning: Columns (1,23,26,28) have mixed types. Specify dtype option on import or set low_memory=False.\n",
      "  df = pd.read_csv(detail).drop('Unnamed: 0', axis=1)\n"
     ]
    }
   ],
   "source": [
    "detail_df = pd.DataFrame()\n",
    "for detail in details:\n",
    "    df = pd.read_csv(detail).drop('Unnamed: 0', axis=1)\n",
    "    detail_df=pd.concat([detail_df, df], ignore_index=True)"
   ]
  },
  {
   "cell_type": "code",
   "execution_count": 4,
   "metadata": {},
   "outputs": [
    {
     "name": "stdout",
     "output_type": "stream",
     "text": [
      "data/tmdb_divided/tmdb_movies_casts_0.csv\n",
      "data/tmdb_divided/tmdb_movies_casts_1.csv\n",
      "data/tmdb_divided/tmdb_movies_casts_2.csv\n",
      "data/tmdb_divided/tmdb_movies_casts_3.csv\n",
      "data/tmdb_divided/tmdb_movies_casts_4.csv\n",
      "data/tmdb_divided/tmdb_movies_casts_5.csv\n",
      "data/tmdb_divided/tmdb_movies_casts_6.csv\n",
      "data/tmdb_divided/tmdb_movies_casts_7.csv\n"
     ]
    }
   ],
   "source": [
    "cast_df = pd.DataFrame()\n",
    "for cast in casts:\n",
    "    print(cast)\n",
    "    df = pd.read_csv(cast).drop('Unnamed: 0', axis=1)\n",
    "    cast_df=pd.concat([cast_df, df], ignore_index=True)"
   ]
  },
  {
   "cell_type": "code",
   "execution_count": 5,
   "metadata": {},
   "outputs": [
    {
     "data": {
      "text/html": [
       "<div>\n",
       "<style scoped>\n",
       "    .dataframe tbody tr th:only-of-type {\n",
       "        vertical-align: middle;\n",
       "    }\n",
       "\n",
       "    .dataframe tbody tr th {\n",
       "        vertical-align: top;\n",
       "    }\n",
       "\n",
       "    .dataframe thead th {\n",
       "        text-align: right;\n",
       "    }\n",
       "</style>\n",
       "<table border=\"1\" class=\"dataframe\">\n",
       "  <thead>\n",
       "    <tr style=\"text-align: right;\">\n",
       "      <th></th>\n",
       "      <th>adult</th>\n",
       "      <th>backdrop_path</th>\n",
       "      <th>belongs_to_collection</th>\n",
       "      <th>budget</th>\n",
       "      <th>genres</th>\n",
       "      <th>homepage</th>\n",
       "      <th>id</th>\n",
       "      <th>imdb_id</th>\n",
       "      <th>original_language</th>\n",
       "      <th>original_title</th>\n",
       "      <th>overview</th>\n",
       "      <th>popularity</th>\n",
       "      <th>poster_path</th>\n",
       "      <th>production_companies</th>\n",
       "      <th>production_countries</th>\n",
       "      <th>release_date</th>\n",
       "      <th>revenue</th>\n",
       "      <th>runtime</th>\n",
       "      <th>spoken_languages</th>\n",
       "      <th>status</th>\n",
       "      <th>tagline</th>\n",
       "      <th>title</th>\n",
       "      <th>video</th>\n",
       "      <th>vote_average</th>\n",
       "      <th>vote_count</th>\n",
       "      <th>success</th>\n",
       "      <th>status_code</th>\n",
       "      <th>status_message</th>\n",
       "    </tr>\n",
       "  </thead>\n",
       "  <tbody>\n",
       "    <tr>\n",
       "      <th>129223</th>\n",
       "      <td>False</td>\n",
       "      <td>/1Tkjtb9Hl8TdrmXUGbYq1h2ota8.jpg</td>\n",
       "      <td>NaN</td>\n",
       "      <td>0.0</td>\n",
       "      <td>Drama</td>\n",
       "      <td>NaN</td>\n",
       "      <td>89280.0</td>\n",
       "      <td>tt0273850</td>\n",
       "      <td>en</td>\n",
       "      <td>My Brother Tom</td>\n",
       "      <td>A teenage girl, Jessica, befriends a teenage b...</td>\n",
       "      <td>5.725</td>\n",
       "      <td>/As8XfSgzm2ZUZItwuGlvLepBJdg.jpg</td>\n",
       "      <td>Film4 Productions</td>\n",
       "      <td>United Kingdom</td>\n",
       "      <td>2001-11-16</td>\n",
       "      <td>0.0</td>\n",
       "      <td>111.0</td>\n",
       "      <td>English</td>\n",
       "      <td>Released</td>\n",
       "      <td>Love and tragedy is just a short walk from hom...</td>\n",
       "      <td>My Brother Tom</td>\n",
       "      <td>False</td>\n",
       "      <td>6.1</td>\n",
       "      <td>24.0</td>\n",
       "      <td>NaN</td>\n",
       "      <td>NaN</td>\n",
       "      <td>NaN</td>\n",
       "    </tr>\n",
       "  </tbody>\n",
       "</table>\n",
       "</div>"
      ],
      "text/plain": [
       "        adult                     backdrop_path belongs_to_collection  budget  \\\n",
       "129223  False  /1Tkjtb9Hl8TdrmXUGbYq1h2ota8.jpg                   NaN     0.0   \n",
       "\n",
       "       genres homepage       id    imdb_id original_language  original_title  \\\n",
       "129223  Drama      NaN  89280.0  tt0273850                en  My Brother Tom   \n",
       "\n",
       "                                                 overview  popularity  \\\n",
       "129223  A teenage girl, Jessica, befriends a teenage b...       5.725   \n",
       "\n",
       "                             poster_path production_companies  \\\n",
       "129223  /As8XfSgzm2ZUZItwuGlvLepBJdg.jpg    Film4 Productions   \n",
       "\n",
       "       production_countries release_date  revenue  runtime spoken_languages  \\\n",
       "129223       United Kingdom   2001-11-16      0.0    111.0          English   \n",
       "\n",
       "          status                                            tagline  \\\n",
       "129223  Released  Love and tragedy is just a short walk from hom...   \n",
       "\n",
       "                 title  video  vote_average  vote_count success  status_code  \\\n",
       "129223  My Brother Tom  False           6.1        24.0     NaN          NaN   \n",
       "\n",
       "       status_message  \n",
       "129223            NaN  "
      ]
     },
     "execution_count": 5,
     "metadata": {},
     "output_type": "execute_result"
    }
   ],
   "source": [
    "pd.set_option('display.max_rows', None)  # or set a high number like 500\n",
    "pd.set_option('display.max_columns', None)  # or set a high number if you have many columns\n",
    "\n",
    "detail_df[detail_df['id'] == 89280]"
   ]
  },
  {
   "cell_type": "code",
   "execution_count": 7,
   "metadata": {},
   "outputs": [],
   "source": [
    "detail_id = detail_df['id']\n",
    "cast_id = cast_df['id']"
   ]
  },
  {
   "cell_type": "code",
   "execution_count": 8,
   "metadata": {},
   "outputs": [],
   "source": [
    "\n",
    "# Convert lists to sets\n",
    "detail_set = set(detail_id)\n",
    "cast_set = set(cast_id)\n",
    "\n",
    "# Find unique values in each list\n",
    "unique_in_list1 = detail_set - cast_set  # Values unique to list1\n",
    "unique_in_list2 = cast_set - detail_set  # Values unique to list2\n",
    "\n",
    "# Alternatively, to find values that are unique in each list in one step\n",
    "unique_in_both = detail_set.symmetric_difference(cast_set)"
   ]
  },
  {
   "cell_type": "code",
   "execution_count": 9,
   "metadata": {},
   "outputs": [],
   "source": [
    "custom_tmdb_df = pd.merge(left=detail_df, right=cast_df, on='id', how='inner')"
   ]
  },
  {
   "cell_type": "code",
   "execution_count": 10,
   "metadata": {},
   "outputs": [],
   "source": [
    "filtered_df = custom_tmdb_df.dropna(subset='overview')"
   ]
  },
  {
   "cell_type": "code",
   "execution_count": 11,
   "metadata": {},
   "outputs": [],
   "source": [
    "filtered_df2 = filtered_df[filtered_df['status'].str.lower() == 'released']"
   ]
  },
  {
   "cell_type": "code",
   "execution_count": 16,
   "metadata": {},
   "outputs": [],
   "source": [
    "filtered_df2 = filtered_df2[['id', 'title', 'budget', 'revenue', 'genres','imdb_id',\n",
    "       'overview', 'tagline', 'popularity', 'poster_path', 'production_companies',\n",
    "       'production_countries', 'release_date', 'runtime',\n",
    "       'vote_average', 'vote_count', 'casts', 'director', 'director_of_photography',\n",
    "       'producer', 'writer', 'music_composer']]"
   ]
  },
  {
   "cell_type": "code",
   "execution_count": 17,
   "metadata": {},
   "outputs": [],
   "source": [
    "filtered_df2.to_csv('data/custom_tmdb.csv')"
   ]
  },
  {
   "cell_type": "code",
   "execution_count": 23,
   "metadata": {},
   "outputs": [],
   "source": [
    "no_genres = filtered_df2[filtered_df2['genres'].isna()]"
   ]
  },
  {
   "cell_type": "code",
   "execution_count": 28,
   "metadata": {},
   "outputs": [],
   "source": [
    "filtered_df3 = filtered_df2.dropna(subset='genres')"
   ]
  },
  {
   "cell_type": "code",
   "execution_count": 31,
   "metadata": {},
   "outputs": [],
   "source": [
    "no_cast = filtered_df3[filtered_df3['casts'].isna()]\n",
    "no_director = filtered_df3[filtered_df3['director'].isna()]"
   ]
  },
  {
   "cell_type": "code",
   "execution_count": 33,
   "metadata": {},
   "outputs": [
    {
     "data": {
      "text/html": [
       "<div>\n",
       "<style scoped>\n",
       "    .dataframe tbody tr th:only-of-type {\n",
       "        vertical-align: middle;\n",
       "    }\n",
       "\n",
       "    .dataframe tbody tr th {\n",
       "        vertical-align: top;\n",
       "    }\n",
       "\n",
       "    .dataframe thead th {\n",
       "        text-align: right;\n",
       "    }\n",
       "</style>\n",
       "<table border=\"1\" class=\"dataframe\">\n",
       "  <thead>\n",
       "    <tr style=\"text-align: right;\">\n",
       "      <th></th>\n",
       "      <th>id</th>\n",
       "      <th>budget</th>\n",
       "      <th>revenue</th>\n",
       "      <th>popularity</th>\n",
       "      <th>runtime</th>\n",
       "      <th>vote_average</th>\n",
       "      <th>vote_count</th>\n",
       "    </tr>\n",
       "  </thead>\n",
       "  <tbody>\n",
       "    <tr>\n",
       "      <th>count</th>\n",
       "      <td>1.079010e+05</td>\n",
       "      <td>1.079010e+05</td>\n",
       "      <td>1.079010e+05</td>\n",
       "      <td>107901.000000</td>\n",
       "      <td>107901.000000</td>\n",
       "      <td>107901.000000</td>\n",
       "      <td>107901.000000</td>\n",
       "    </tr>\n",
       "    <tr>\n",
       "      <th>mean</th>\n",
       "      <td>7.285886e+05</td>\n",
       "      <td>7.151126e+03</td>\n",
       "      <td>6.185404e+03</td>\n",
       "      <td>0.802371</td>\n",
       "      <td>36.311165</td>\n",
       "      <td>1.541785</td>\n",
       "      <td>1.096765</td>\n",
       "    </tr>\n",
       "    <tr>\n",
       "      <th>std</th>\n",
       "      <td>3.328223e+05</td>\n",
       "      <td>6.253012e+05</td>\n",
       "      <td>1.553162e+06</td>\n",
       "      <td>0.901308</td>\n",
       "      <td>68.822105</td>\n",
       "      <td>2.849798</td>\n",
       "      <td>9.175618</td>\n",
       "    </tr>\n",
       "    <tr>\n",
       "      <th>min</th>\n",
       "      <td>8.000000e+00</td>\n",
       "      <td>0.000000e+00</td>\n",
       "      <td>0.000000e+00</td>\n",
       "      <td>0.000000</td>\n",
       "      <td>0.000000</td>\n",
       "      <td>0.000000</td>\n",
       "      <td>0.000000</td>\n",
       "    </tr>\n",
       "    <tr>\n",
       "      <th>25%</th>\n",
       "      <td>4.551870e+05</td>\n",
       "      <td>0.000000e+00</td>\n",
       "      <td>0.000000e+00</td>\n",
       "      <td>0.600000</td>\n",
       "      <td>6.000000</td>\n",
       "      <td>0.000000</td>\n",
       "      <td>0.000000</td>\n",
       "    </tr>\n",
       "    <tr>\n",
       "      <th>50%</th>\n",
       "      <td>7.524110e+05</td>\n",
       "      <td>0.000000e+00</td>\n",
       "      <td>0.000000e+00</td>\n",
       "      <td>0.600000</td>\n",
       "      <td>18.000000</td>\n",
       "      <td>0.000000</td>\n",
       "      <td>0.000000</td>\n",
       "    </tr>\n",
       "    <tr>\n",
       "      <th>75%</th>\n",
       "      <td>1.021182e+06</td>\n",
       "      <td>0.000000e+00</td>\n",
       "      <td>0.000000e+00</td>\n",
       "      <td>0.662000</td>\n",
       "      <td>60.000000</td>\n",
       "      <td>1.000000</td>\n",
       "      <td>1.000000</td>\n",
       "    </tr>\n",
       "    <tr>\n",
       "      <th>max</th>\n",
       "      <td>1.257774e+06</td>\n",
       "      <td>1.500000e+08</td>\n",
       "      <td>5.000000e+08</td>\n",
       "      <td>131.810000</td>\n",
       "      <td>14400.000000</td>\n",
       "      <td>10.000000</td>\n",
       "      <td>1561.000000</td>\n",
       "    </tr>\n",
       "  </tbody>\n",
       "</table>\n",
       "</div>"
      ],
      "text/plain": [
       "                 id        budget       revenue     popularity        runtime  \\\n",
       "count  1.079010e+05  1.079010e+05  1.079010e+05  107901.000000  107901.000000   \n",
       "mean   7.285886e+05  7.151126e+03  6.185404e+03       0.802371      36.311165   \n",
       "std    3.328223e+05  6.253012e+05  1.553162e+06       0.901308      68.822105   \n",
       "min    8.000000e+00  0.000000e+00  0.000000e+00       0.000000       0.000000   \n",
       "25%    4.551870e+05  0.000000e+00  0.000000e+00       0.600000       6.000000   \n",
       "50%    7.524110e+05  0.000000e+00  0.000000e+00       0.600000      18.000000   \n",
       "75%    1.021182e+06  0.000000e+00  0.000000e+00       0.662000      60.000000   \n",
       "max    1.257774e+06  1.500000e+08  5.000000e+08     131.810000   14400.000000   \n",
       "\n",
       "        vote_average     vote_count  \n",
       "count  107901.000000  107901.000000  \n",
       "mean        1.541785       1.096765  \n",
       "std         2.849798       9.175618  \n",
       "min         0.000000       0.000000  \n",
       "25%         0.000000       0.000000  \n",
       "50%         0.000000       0.000000  \n",
       "75%         1.000000       1.000000  \n",
       "max        10.000000    1561.000000  "
      ]
     },
     "execution_count": 33,
     "metadata": {},
     "output_type": "execute_result"
    }
   ],
   "source": [
    "no_cast.describe()"
   ]
  },
  {
   "cell_type": "code",
   "execution_count": 38,
   "metadata": {},
   "outputs": [],
   "source": [
    "filtered_df4 = filtered_df3.dropna(subset='director')"
   ]
  },
  {
   "cell_type": "code",
   "execution_count": 40,
   "metadata": {},
   "outputs": [
    {
     "data": {
      "text/plain": [
       "0.800       7.0\n",
       "0.900      21.0\n",
       "0.950      65.0\n",
       "0.990     766.0\n",
       "0.995    1807.0\n",
       "Name: vote_count, dtype: float64"
      ]
     },
     "execution_count": 40,
     "metadata": {},
     "output_type": "execute_result"
    }
   ],
   "source": [
    "filtered_df4['vote_count'].quantile([0.8, 0.9, 0.95, 0.99, 0.995])"
   ]
  },
  {
   "cell_type": "code",
   "execution_count": 65,
   "metadata": {},
   "outputs": [
    {
     "data": {
      "text/plain": [
       "(3984, 4481, 4976)"
      ]
     },
     "execution_count": 65,
     "metadata": {},
     "output_type": "execute_result"
    }
   ],
   "source": [
    "filtered_df4[filtered_df4['vote_count']>=1042].shape[0], filtered_df4[filtered_df4['vote_count']>=890].shape[0], filtered_df4[filtered_df4['vote_count']>=766].shape[0]"
   ]
  },
  {
   "cell_type": "code",
   "execution_count": 56,
   "metadata": {},
   "outputs": [],
   "source": [
    "filtered_df4 = filtered_df4.dropna(subset='vote_count')"
   ]
  },
  {
   "cell_type": "code",
   "execution_count": 62,
   "metadata": {},
   "outputs": [
    {
     "data": {
      "text/plain": [
       "0.800       7.0\n",
       "0.900      21.0\n",
       "0.950      65.0\n",
       "0.990     766.0\n",
       "0.991     890.0\n",
       "0.992    1042.0\n",
       "0.995    1807.0\n",
       "Name: vote_count, dtype: float64"
      ]
     },
     "execution_count": 62,
     "metadata": {},
     "output_type": "execute_result"
    }
   ],
   "source": [
    "filtered_df4['vote_count'].quantile([0.8, 0.9, 0.95, 0.99, 0.991, 0.992, 0.995])"
   ]
  },
  {
   "cell_type": "code",
   "execution_count": 66,
   "metadata": {},
   "outputs": [],
   "source": [
    "threshold = filtered_df4['vote_count'].quantile(0.99)\n",
    "final_df = filtered_df4[filtered_df4['vote_count']>=threshold]\n",
    "final_df.to_csv('data/filtered_custom_tmdb.csv')"
   ]
  },
  {
   "cell_type": "code",
   "execution_count": 67,
   "metadata": {},
   "outputs": [
    {
     "name": "stdout",
     "output_type": "stream",
     "text": [
      "<class 'pandas.core.frame.DataFrame'>\n",
      "Index: 4976 entries, 2 to 904182\n",
      "Data columns (total 22 columns):\n",
      " #   Column                   Non-Null Count  Dtype  \n",
      "---  ------                   --------------  -----  \n",
      " 0   id                       4976 non-null   float64\n",
      " 1   title                    4976 non-null   object \n",
      " 2   budget                   4976 non-null   float64\n",
      " 3   revenue                  4976 non-null   float64\n",
      " 4   genres                   4976 non-null   object \n",
      " 5   imdb_id                  4975 non-null   object \n",
      " 6   overview                 4976 non-null   object \n",
      " 7   tagline                  4563 non-null   object \n",
      " 8   popularity               4976 non-null   float64\n",
      " 9   poster_path              4975 non-null   object \n",
      " 10  production_companies     4970 non-null   object \n",
      " 11  production_countries     4974 non-null   object \n",
      " 12  release_date             4976 non-null   object \n",
      " 13  runtime                  4976 non-null   float64\n",
      " 14  vote_average             4976 non-null   float64\n",
      " 15  vote_count               4976 non-null   float64\n",
      " 16  casts                    4973 non-null   object \n",
      " 17  director                 4976 non-null   object \n",
      " 18  director_of_photography  4976 non-null   object \n",
      " 19  producer                 4976 non-null   object \n",
      " 20  writer                   4976 non-null   object \n",
      " 21  music_composer           4795 non-null   object \n",
      "dtypes: float64(7), object(15)\n",
      "memory usage: 894.1+ KB\n"
     ]
    }
   ],
   "source": [
    "final_df.info()"
   ]
  },
  {
   "cell_type": "code",
   "execution_count": 68,
   "metadata": {},
   "outputs": [
    {
     "data": {
      "text/html": [
       "<div>\n",
       "<style scoped>\n",
       "    .dataframe tbody tr th:only-of-type {\n",
       "        vertical-align: middle;\n",
       "    }\n",
       "\n",
       "    .dataframe tbody tr th {\n",
       "        vertical-align: top;\n",
       "    }\n",
       "\n",
       "    .dataframe thead th {\n",
       "        text-align: right;\n",
       "    }\n",
       "</style>\n",
       "<table border=\"1\" class=\"dataframe\">\n",
       "  <thead>\n",
       "    <tr style=\"text-align: right;\">\n",
       "      <th></th>\n",
       "      <th>id</th>\n",
       "      <th>title</th>\n",
       "      <th>budget</th>\n",
       "      <th>revenue</th>\n",
       "      <th>genres</th>\n",
       "      <th>imdb_id</th>\n",
       "      <th>overview</th>\n",
       "      <th>tagline</th>\n",
       "      <th>popularity</th>\n",
       "      <th>poster_path</th>\n",
       "      <th>production_companies</th>\n",
       "      <th>production_countries</th>\n",
       "      <th>release_date</th>\n",
       "      <th>runtime</th>\n",
       "      <th>vote_average</th>\n",
       "      <th>vote_count</th>\n",
       "      <th>casts</th>\n",
       "      <th>director</th>\n",
       "      <th>director_of_photography</th>\n",
       "      <th>producer</th>\n",
       "      <th>writer</th>\n",
       "      <th>music_composer</th>\n",
       "    </tr>\n",
       "  </thead>\n",
       "  <tbody>\n",
       "    <tr>\n",
       "      <th>596111</th>\n",
       "      <td>836466.0</td>\n",
       "      <td>Return</td>\n",
       "      <td>0.0</td>\n",
       "      <td>0.0</td>\n",
       "      <td>Animation</td>\n",
       "      <td>NaN</td>\n",
       "      <td>A single man has worked most of his life in a ...</td>\n",
       "      <td>NaN</td>\n",
       "      <td>4.981</td>\n",
       "      <td>NaN</td>\n",
       "      <td>NaN</td>\n",
       "      <td>NaN</td>\n",
       "      <td>2020-06-10</td>\n",
       "      <td>12.0</td>\n",
       "      <td>6.441</td>\n",
       "      <td>918.0</td>\n",
       "      <td>NaN</td>\n",
       "      <td>['Jonathan Delgado Herrera']</td>\n",
       "      <td>[]</td>\n",
       "      <td>[]</td>\n",
       "      <td>[]</td>\n",
       "      <td>NaN</td>\n",
       "    </tr>\n",
       "  </tbody>\n",
       "</table>\n",
       "</div>"
      ],
      "text/plain": [
       "              id   title  budget  revenue     genres imdb_id  \\\n",
       "596111  836466.0  Return     0.0      0.0  Animation     NaN   \n",
       "\n",
       "                                                 overview tagline  popularity  \\\n",
       "596111  A single man has worked most of his life in a ...     NaN       4.981   \n",
       "\n",
       "       poster_path production_companies production_countries release_date  \\\n",
       "596111         NaN                  NaN                  NaN   2020-06-10   \n",
       "\n",
       "        runtime  vote_average  vote_count casts                      director  \\\n",
       "596111     12.0         6.441       918.0   NaN  ['Jonathan Delgado Herrera']   \n",
       "\n",
       "       director_of_photography producer writer music_composer  \n",
       "596111                      []       []     []            NaN  "
      ]
     },
     "execution_count": 68,
     "metadata": {},
     "output_type": "execute_result"
    }
   ],
   "source": [
    "final_df[final_df['poster_path'].isna()]"
   ]
  }
 ],
 "metadata": {
  "kernelspec": {
   "display_name": "study-env",
   "language": "python",
   "name": "python3"
  },
  "language_info": {
   "codemirror_mode": {
    "name": "ipython",
    "version": 3
   },
   "file_extension": ".py",
   "mimetype": "text/x-python",
   "name": "python",
   "nbconvert_exporter": "python",
   "pygments_lexer": "ipython3",
   "version": "3.9.18"
  }
 },
 "nbformat": 4,
 "nbformat_minor": 2
}
