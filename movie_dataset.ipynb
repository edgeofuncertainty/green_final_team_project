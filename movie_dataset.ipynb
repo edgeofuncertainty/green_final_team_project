{
 "cells": [
  {
   "cell_type": "code",
   "execution_count": 1,
   "metadata": {},
   "outputs": [],
   "source": [
    "import pandas as pd\n",
    "import numpy as np\n",
    "import matplotlib.pyplot as plt"
   ]
  },
  {
   "cell_type": "code",
   "execution_count": 3,
   "metadata": {},
   "outputs": [
    {
     "name": "stdout",
     "output_type": "stream",
     "text": [
      "Requirement already satisfied: kaggle in /Users/yunseojeong/miniconda3/envs/study-env/lib/python3.9/site-packages (1.6.6)\n",
      "Requirement already satisfied: six>=1.10 in /Users/yunseojeong/miniconda3/envs/study-env/lib/python3.9/site-packages (from kaggle) (1.16.0)\n",
      "Requirement already satisfied: certifi in /Users/yunseojeong/miniconda3/envs/study-env/lib/python3.9/site-packages (from kaggle) (2023.11.17)\n",
      "Requirement already satisfied: python-dateutil in /Users/yunseojeong/miniconda3/envs/study-env/lib/python3.9/site-packages (from kaggle) (2.8.2)\n",
      "Requirement already satisfied: requests in /Users/yunseojeong/miniconda3/envs/study-env/lib/python3.9/site-packages (from kaggle) (2.31.0)\n",
      "Requirement already satisfied: tqdm in /Users/yunseojeong/miniconda3/envs/study-env/lib/python3.9/site-packages (from kaggle) (4.66.1)\n",
      "Requirement already satisfied: python-slugify in /Users/yunseojeong/miniconda3/envs/study-env/lib/python3.9/site-packages (from kaggle) (8.0.4)\n",
      "Requirement already satisfied: urllib3 in /Users/yunseojeong/miniconda3/envs/study-env/lib/python3.9/site-packages (from kaggle) (1.26.18)\n",
      "Requirement already satisfied: bleach in /Users/yunseojeong/miniconda3/envs/study-env/lib/python3.9/site-packages (from kaggle) (6.1.0)\n",
      "Requirement already satisfied: webencodings in /Users/yunseojeong/miniconda3/envs/study-env/lib/python3.9/site-packages (from bleach->kaggle) (0.5.1)\n",
      "Requirement already satisfied: text-unidecode>=1.3 in /Users/yunseojeong/miniconda3/envs/study-env/lib/python3.9/site-packages (from python-slugify->kaggle) (1.3)\n",
      "Requirement already satisfied: charset-normalizer<4,>=2 in /Users/yunseojeong/miniconda3/envs/study-env/lib/python3.9/site-packages (from requests->kaggle) (3.3.2)\n",
      "Requirement already satisfied: idna<4,>=2.5 in /Users/yunseojeong/miniconda3/envs/study-env/lib/python3.9/site-packages (from requests->kaggle) (3.6)\n",
      "Warning: Your Kaggle API key is readable by other users on this system! To fix this, you can run 'chmod 600 /Users/yunseojeong/.kaggle/kaggle.json'\n",
      "Downloading tmdb-movies-daily-updates.zip to data\n",
      " 99%|███████████████████████████████████████▍| 199M/202M [00:07<00:00, 33.6MB/s]\n",
      "100%|████████████████████████████████████████| 202M/202M [00:07<00:00, 29.7MB/s]\n"
     ]
    }
   ],
   "source": [
    "## TMDB 영화 데이터셋 다운로드\n",
    "import os\n",
    "\n",
    "data_dir = 'data'\n",
    "if not os.path.exists(data_dir):\n",
    "    os.mkdir(data_dir)\n",
    "\n",
    "data_file = os.path.join(data_dir, 'tmdb-movies-daily-updates.zip')\n",
    "if not os.path.exists(os.path.join(data_dir, 'tmdb-movies-daily-updates.zip')):\n",
    "    !pip install kaggle\n",
    "    !kaggle datasets download -d alanvourch/tmdb-movies-daily-updates -p data"
   ]
  },
  {
   "cell_type": "code",
   "execution_count": 4,
   "metadata": {},
   "outputs": [],
   "source": [
    "## TMDB 영화 데이터셋 압축 해제\n",
    "import shutil\n",
    "\n",
    "shutil.unpack_archive(data_file, data_dir)"
   ]
  }
 ],
 "metadata": {
  "kernelspec": {
   "display_name": "study-env",
   "language": "python",
   "name": "python3"
  },
  "language_info": {
   "codemirror_mode": {
    "name": "ipython",
    "version": 3
   },
   "file_extension": ".py",
   "mimetype": "text/x-python",
   "name": "python",
   "nbconvert_exporter": "python",
   "pygments_lexer": "ipython3",
   "version": "3.9.18"
  }
 },
 "nbformat": 4,
 "nbformat_minor": 2
}
